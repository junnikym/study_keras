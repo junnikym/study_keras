{
 "cells": [
  {
   "cell_type": "markdown",
   "metadata": {},
   "source": [
    "# 다층 퍼셉트론 (Multi-Layer Perceptron : MLP) \n",
    "### with Regression(회귀)\n",
    "\n",
    "회귀 과업 (Regression Task)은 머신러닝에서 예측하고자 하는 변수(y)가 실수 값을 가질 때 (continuous)를 일컫는다.\n",
    "\n",
    "예로 사람의 키, 지능, 연봉 등을 예측하는 과업을 진행하는데 적합하다\n",
    "\n",
    "손실 함수(loss function)와 평가 지표(evaluation metric)을 위해서는 예측치와 실제 값을 뺀 후 제곱하여 평균한 -> 평균 제곱 오차 (MSE; Mean Squared Error)가 흔히 사용됨\n",
    "\n",
    "## MSE = (1 / n) sigma 1~n (에측치 - 실제값)^2"
   ]
  },
  {
   "cell_type": "code",
   "execution_count": 1,
   "metadata": {},
   "outputs": [
    {
     "name": "stdout",
     "output_type": "stream",
     "text": [
      "(404, 13) (102, 13) (404,) (102,)\n"
     ]
    }
   ],
   "source": [
    "from keras.datasets import boston_housing\n",
    "\n",
    "(x_train, y_train), (x_test, y_test) = boston_housing.load_data()\n",
    "print(x_train.shape, x_test.shape, y_train.shape, y_test.shape)"
   ]
  },
  {
   "cell_type": "markdown",
   "metadata": {},
   "source": [
    "## Model 생성\n",
    "\n",
    " - Sequential()로 모델을 생성; add()함수를 통해 레이어를 추가해야한다."
   ]
  },
  {
   "cell_type": "code",
   "execution_count": 2,
   "metadata": {},
   "outputs": [],
   "source": [
    "from keras.models import Sequential\n",
    "\n",
    "model = Sequential()"
   ]
  },
  {
   "cell_type": "markdown",
   "metadata": {},
   "source": [
    "## Layer 추가하기\n",
    "\n",
    " - 위에서 생성된 모델에 add()함수를 활용하여 블럭쌓듯이 하나씩 추가"
   ]
  },
  {
   "cell_type": "code",
   "execution_count": 3,
   "metadata": {},
   "outputs": [],
   "source": [
    "from keras.layers import Activation, Dense\n",
    "\n",
    "# input layer\n",
    "# input_shape가 명시되어 있어야한다.\n",
    "model.add(Dense(10, input_shape = (13,)))\n",
    "# 활성 함수로 sigmoid함수를 사용한다고 명시\n",
    "model.add(Activation('sigmoid'))\n",
    "\n",
    "\n",
    "# hidden layer (first)\n",
    "model.add(Dense(10))\n",
    "model.add(Activation('sigmoid'))\n",
    "\n",
    "# hidden layer (second)\n",
    "#     위와 같은 형태이나 더 간단한 코드로 생성이 가능하다.\n",
    "model.add(Dense(10, activation = 'sigmoid'))\n",
    "\n",
    "# output layer\n",
    "model.add(Dense(1))"
   ]
  },
  {
   "cell_type": "markdown",
   "metadata": {},
   "source": [
    "## Model Compile\n",
    "\n",
    " - 케라스 모델은 학습 이전에 컴파일 되어야하며 이 과정에서 손실 함수(loss function)와 \n",
    "   최적화 방법(optimizer)가 구체화되어야 한다."
   ]
  },
  {
   "cell_type": "code",
   "execution_count": 4,
   "metadata": {},
   "outputs": [],
   "source": [
    "from keras import optimizers\n",
    "\n",
    "# sgd : stochastic gradient descent optimizer\n",
    "sgd = optimizers.SGD(lr = 0.01)\n",
    "model.compile(optimizer = sgd, loss = 'mean_squared_error', metrics = ['mse'])"
   ]
  },
  {
   "cell_type": "markdown",
   "metadata": {},
   "source": [
    "## Model 출력해보기\n",
    "\n",
    " - 생성된 Model의 생김새를 summary() 함수를 통해 출력해 볼 수 있다."
   ]
  },
  {
   "cell_type": "markdown",
   "metadata": {},
   "source": [
    "model.summary()"
   ]
  },
  {
   "cell_type": "markdown",
   "metadata": {},
   "source": [
    "## Model 학습시키기\n",
    "\n",
    " - fit() 함수를 통해 모델을 학습 데이터와 기타 파라미터에 맞게 학습시킬 수 있다.\n",
    "      \n",
    "      * batch_size : 한번에 몇 개의 데이터를 학습할 것인가.\n",
    "      * epochs : 모델이 몇번의 학습을 진행할 것인가.\n",
    "      * verbose : 모델 합ㄱ습 과정을 표시할 것인지 ( 0 or 1 로 표현 )"
   ]
  },
  {
   "cell_type": "code",
   "execution_count": 7,
   "metadata": {},
   "outputs": [
    {
     "name": "stdout",
     "output_type": "stream",
     "text": [
      "Epoch 1/100\n",
      "9/9 [==============================] - 0s 639us/step - loss: 84.9677 - mse: 84.9677\n",
      "Epoch 2/100\n",
      "9/9 [==============================] - 0s 767us/step - loss: 84.8146 - mse: 84.8146\n",
      "Epoch 3/100\n",
      "9/9 [==============================] - 0s 726us/step - loss: 85.4602 - mse: 85.4602\n",
      "Epoch 4/100\n",
      "9/9 [==============================] - 0s 686us/step - loss: 84.9939 - mse: 84.9939\n",
      "Epoch 5/100\n",
      "9/9 [==============================] - 0s 769us/step - loss: 84.9131 - mse: 84.9131\n",
      "Epoch 6/100\n",
      "9/9 [==============================] - 0s 661us/step - loss: 85.5558 - mse: 85.5558\n",
      "Epoch 7/100\n",
      "9/9 [==============================] - 0s 670us/step - loss: 85.2669 - mse: 85.2669\n",
      "Epoch 8/100\n",
      "9/9 [==============================] - 0s 673us/step - loss: 85.0757 - mse: 85.0757\n",
      "Epoch 9/100\n",
      "9/9 [==============================] - 0s 671us/step - loss: 85.3247 - mse: 85.3247\n",
      "Epoch 10/100\n",
      "9/9 [==============================] - 0s 712us/step - loss: 84.7271 - mse: 84.7271\n",
      "Epoch 11/100\n",
      "9/9 [==============================] - 0s 641us/step - loss: 85.2839 - mse: 85.2839\n",
      "Epoch 12/100\n",
      "9/9 [==============================] - 0s 669us/step - loss: 84.7666 - mse: 84.7666\n",
      "Epoch 13/100\n",
      "9/9 [==============================] - 0s 641us/step - loss: 84.7981 - mse: 84.7981\n",
      "Epoch 14/100\n",
      "9/9 [==============================] - 0s 675us/step - loss: 84.7669 - mse: 84.7669\n",
      "Epoch 15/100\n",
      "9/9 [==============================] - 0s 631us/step - loss: 84.6903 - mse: 84.6903\n",
      "Epoch 16/100\n",
      "9/9 [==============================] - 0s 670us/step - loss: 84.8113 - mse: 84.8113\n",
      "Epoch 17/100\n",
      "9/9 [==============================] - 0s 638us/step - loss: 84.8247 - mse: 84.8247\n",
      "Epoch 18/100\n",
      "9/9 [==============================] - 0s 681us/step - loss: 85.0382 - mse: 85.0382\n",
      "Epoch 19/100\n",
      "9/9 [==============================] - 0s 638us/step - loss: 85.0872 - mse: 85.0872\n",
      "Epoch 20/100\n",
      "9/9 [==============================] - 0s 686us/step - loss: 84.9387 - mse: 84.9387\n",
      "Epoch 21/100\n",
      "9/9 [==============================] - 0s 637us/step - loss: 84.8722 - mse: 84.8722\n",
      "Epoch 22/100\n",
      "9/9 [==============================] - 0s 705us/step - loss: 84.9464 - mse: 84.9464\n",
      "Epoch 23/100\n",
      "9/9 [==============================] - 0s 633us/step - loss: 86.0677 - mse: 86.0677\n",
      "Epoch 24/100\n",
      "9/9 [==============================] - 0s 689us/step - loss: 85.2082 - mse: 85.2082\n",
      "Epoch 25/100\n",
      "9/9 [==============================] - 0s 716us/step - loss: 85.5388 - mse: 85.5388\n",
      "Epoch 26/100\n",
      "9/9 [==============================] - 0s 788us/step - loss: 85.4875 - mse: 85.4875\n",
      "Epoch 27/100\n",
      "9/9 [==============================] - 0s 668us/step - loss: 84.8069 - mse: 84.8069\n",
      "Epoch 28/100\n",
      "9/9 [==============================] - 0s 660us/step - loss: 84.9348 - mse: 84.9348\n",
      "Epoch 29/100\n",
      "9/9 [==============================] - 0s 645us/step - loss: 84.9120 - mse: 84.9120\n",
      "Epoch 30/100\n",
      "9/9 [==============================] - 0s 636us/step - loss: 85.0859 - mse: 85.0859\n",
      "Epoch 31/100\n",
      "9/9 [==============================] - 0s 659us/step - loss: 85.0016 - mse: 85.0016\n",
      "Epoch 32/100\n",
      "9/9 [==============================] - 0s 661us/step - loss: 85.6760 - mse: 85.6760\n",
      "Epoch 33/100\n",
      "9/9 [==============================] - 0s 664us/step - loss: 84.7784 - mse: 84.7784\n",
      "Epoch 34/100\n",
      "9/9 [==============================] - 0s 653us/step - loss: 85.0426 - mse: 85.0426\n",
      "Epoch 35/100\n",
      "9/9 [==============================] - 0s 639us/step - loss: 85.0162 - mse: 85.0162\n",
      "Epoch 36/100\n",
      "9/9 [==============================] - 0s 628us/step - loss: 85.6409 - mse: 85.6409\n",
      "Epoch 37/100\n",
      "9/9 [==============================] - 0s 668us/step - loss: 84.8354 - mse: 84.8354\n",
      "Epoch 38/100\n",
      "9/9 [==============================] - 0s 630us/step - loss: 85.3946 - mse: 85.3946\n",
      "Epoch 39/100\n",
      "9/9 [==============================] - 0s 709us/step - loss: 84.8767 - mse: 84.8767\n",
      "Epoch 40/100\n",
      "9/9 [==============================] - 0s 663us/step - loss: 85.0432 - mse: 85.0432\n",
      "Epoch 41/100\n",
      "9/9 [==============================] - 0s 685us/step - loss: 85.0285 - mse: 85.0285\n",
      "Epoch 42/100\n",
      "9/9 [==============================] - 0s 674us/step - loss: 85.4678 - mse: 85.4678\n",
      "Epoch 43/100\n",
      "9/9 [==============================] - 0s 648us/step - loss: 84.9213 - mse: 84.9213\n",
      "Epoch 44/100\n",
      "9/9 [==============================] - 0s 636us/step - loss: 84.8157 - mse: 84.8157\n",
      "Epoch 45/100\n",
      "9/9 [==============================] - 0s 674us/step - loss: 84.9840 - mse: 84.9840\n",
      "Epoch 46/100\n",
      "9/9 [==============================] - 0s 633us/step - loss: 84.9448 - mse: 84.9448\n",
      "Epoch 47/100\n",
      "9/9 [==============================] - 0s 774us/step - loss: 85.0947 - mse: 85.0947\n",
      "Epoch 48/100\n",
      "9/9 [==============================] - 0s 701us/step - loss: 85.1778 - mse: 85.1778\n",
      "Epoch 49/100\n",
      "9/9 [==============================] - 0s 715us/step - loss: 85.1413 - mse: 85.1413\n",
      "Epoch 50/100\n",
      "9/9 [==============================] - 0s 615us/step - loss: 86.0409 - mse: 86.0409\n",
      "Epoch 51/100\n",
      "9/9 [==============================] - 0s 681us/step - loss: 85.2386 - mse: 85.2386\n",
      "Epoch 52/100\n",
      "9/9 [==============================] - 0s 692us/step - loss: 84.8894 - mse: 84.8894\n",
      "Epoch 53/100\n",
      "9/9 [==============================] - 0s 676us/step - loss: 84.9223 - mse: 84.9223\n",
      "Epoch 54/100\n",
      "9/9 [==============================] - 0s 632us/step - loss: 84.8151 - mse: 84.8151\n",
      "Epoch 55/100\n",
      "9/9 [==============================] - 0s 697us/step - loss: 85.2391 - mse: 85.2391\n",
      "Epoch 56/100\n",
      "9/9 [==============================] - 0s 634us/step - loss: 85.4359 - mse: 85.4359\n",
      "Epoch 57/100\n",
      "9/9 [==============================] - 0s 678us/step - loss: 85.3904 - mse: 85.3904\n",
      "Epoch 58/100\n",
      "9/9 [==============================] - 0s 649us/step - loss: 85.0367 - mse: 85.0367\n",
      "Epoch 59/100\n",
      "9/9 [==============================] - 0s 684us/step - loss: 85.0005 - mse: 85.0005\n",
      "Epoch 60/100\n",
      "9/9 [==============================] - 0s 683us/step - loss: 84.8159 - mse: 84.8159\n",
      "Epoch 61/100\n",
      "9/9 [==============================] - 0s 691us/step - loss: 84.8837 - mse: 84.8837\n",
      "Epoch 62/100\n",
      "9/9 [==============================] - 0s 735us/step - loss: 86.0045 - mse: 86.0045\n",
      "Epoch 63/100\n",
      "9/9 [==============================] - 0s 644us/step - loss: 84.8870 - mse: 84.8870\n",
      "Epoch 64/100\n",
      "9/9 [==============================] - 0s 697us/step - loss: 84.7379 - mse: 84.7379\n",
      "Epoch 65/100\n",
      "9/9 [==============================] - 0s 663us/step - loss: 85.2561 - mse: 85.2561\n",
      "Epoch 66/100\n",
      "9/9 [==============================] - 0s 700us/step - loss: 84.9198 - mse: 84.9198\n",
      "Epoch 67/100\n",
      "9/9 [==============================] - 0s 695us/step - loss: 86.7568 - mse: 86.7568\n",
      "Epoch 68/100\n",
      "9/9 [==============================] - 0s 725us/step - loss: 85.5624 - mse: 85.5624\n",
      "Epoch 69/100\n",
      "9/9 [==============================] - 0s 739us/step - loss: 85.1708 - mse: 85.1708\n",
      "Epoch 70/100\n",
      "9/9 [==============================] - 0s 694us/step - loss: 84.9222 - mse: 84.9222\n",
      "Epoch 71/100\n",
      "9/9 [==============================] - 0s 736us/step - loss: 85.6931 - mse: 85.6931\n",
      "Epoch 72/100\n",
      "9/9 [==============================] - 0s 743us/step - loss: 85.1704 - mse: 85.1704\n",
      "Epoch 73/100\n",
      "9/9 [==============================] - 0s 698us/step - loss: 84.7812 - mse: 84.7812\n",
      "Epoch 74/100\n",
      "9/9 [==============================] - 0s 650us/step - loss: 86.1697 - mse: 86.1697\n",
      "Epoch 75/100\n",
      "9/9 [==============================] - 0s 672us/step - loss: 85.0593 - mse: 85.0593\n",
      "Epoch 76/100\n",
      "9/9 [==============================] - 0s 647us/step - loss: 84.7488 - mse: 84.7488\n",
      "Epoch 77/100\n",
      "9/9 [==============================] - 0s 700us/step - loss: 84.7089 - mse: 84.7089\n",
      "Epoch 78/100\n",
      "9/9 [==============================] - 0s 651us/step - loss: 84.8629 - mse: 84.8629\n",
      "Epoch 79/100\n",
      "9/9 [==============================] - 0s 669us/step - loss: 84.9629 - mse: 84.9629\n",
      "Epoch 80/100\n",
      "9/9 [==============================] - 0s 618us/step - loss: 85.0119 - mse: 85.0119\n",
      "Epoch 81/100\n",
      "9/9 [==============================] - 0s 699us/step - loss: 84.9168 - mse: 84.9168\n",
      "Epoch 82/100\n",
      "9/9 [==============================] - 0s 628us/step - loss: 84.9757 - mse: 84.9757\n",
      "Epoch 83/100\n",
      "9/9 [==============================] - 0s 649us/step - loss: 85.5234 - mse: 85.5234\n",
      "Epoch 84/100\n",
      "9/9 [==============================] - 0s 778us/step - loss: 84.7634 - mse: 84.7634\n",
      "Epoch 85/100\n"
     ]
    },
    {
     "name": "stdout",
     "output_type": "stream",
     "text": [
      "9/9 [==============================] - 0s 657us/step - loss: 85.2035 - mse: 85.2035\n",
      "Epoch 86/100\n",
      "9/9 [==============================] - 0s 673us/step - loss: 84.7647 - mse: 84.7647\n",
      "Epoch 87/100\n",
      "9/9 [==============================] - 0s 631us/step - loss: 84.7053 - mse: 84.7053\n",
      "Epoch 88/100\n",
      "9/9 [==============================] - 0s 663us/step - loss: 84.9403 - mse: 84.9403\n",
      "Epoch 89/100\n",
      "9/9 [==============================] - 0s 733us/step - loss: 84.9988 - mse: 84.9988\n",
      "Epoch 90/100\n",
      "9/9 [==============================] - 0s 688us/step - loss: 85.6452 - mse: 85.6452\n",
      "Epoch 91/100\n",
      "9/9 [==============================] - 0s 711us/step - loss: 85.1927 - mse: 85.1927\n",
      "Epoch 92/100\n",
      "9/9 [==============================] - 0s 640us/step - loss: 85.0021 - mse: 85.0021\n",
      "Epoch 93/100\n",
      "9/9 [==============================] - 0s 682us/step - loss: 84.8588 - mse: 84.8588\n",
      "Epoch 94/100\n",
      "9/9 [==============================] - 0s 617us/step - loss: 84.7930 - mse: 84.7930\n",
      "Epoch 95/100\n",
      "9/9 [==============================] - 0s 664us/step - loss: 85.1592 - mse: 85.1592\n",
      "Epoch 96/100\n",
      "9/9 [==============================] - 0s 624us/step - loss: 84.8271 - mse: 84.8271\n",
      "Epoch 97/100\n",
      "9/9 [==============================] - 0s 703us/step - loss: 86.5335 - mse: 86.5335\n",
      "Epoch 98/100\n",
      "9/9 [==============================] - 0s 675us/step - loss: 84.8363 - mse: 84.8363\n",
      "Epoch 99/100\n",
      "9/9 [==============================] - 0s 664us/step - loss: 84.9401 - mse: 84.9401\n",
      "Epoch 100/100\n",
      "9/9 [==============================] - 0s 749us/step - loss: 84.9623 - mse: 84.9623\n"
     ]
    },
    {
     "data": {
      "text/plain": [
       "<tensorflow.python.keras.callbacks.History at 0x7fa7b1002b50>"
      ]
     },
     "execution_count": 7,
     "metadata": {},
     "output_type": "execute_result"
    }
   ],
   "source": [
    "model.fit(x_train, y_train, batch_size = 50, epochs = 100, verbose = 1)"
   ]
  },
  {
   "cell_type": "markdown",
   "metadata": {},
   "source": [
    "## Model 평가\n",
    "\n",
    " - evaluate() 함수를 통해 모델을 평가할 수 있다.\n",
    "    - 파라미터로 학습 데이터 (x_train)과 학습 레이블(y_train)을 넣어 평가를 진행한다.\n",
    "    - 결과는 리스트 형태로 [손실, 오차]와 같이 반환한다."
   ]
  },
  {
   "cell_type": "code",
   "execution_count": 9,
   "metadata": {},
   "outputs": [
    {
     "name": "stdout",
     "output_type": "stream",
     "text": [
      "4/4 [==============================] - 0s 674us/step - loss: 83.6701 - mse: 83.6701\n",
      "['loss', 'mse']\n",
      "[83.67009735107422, 83.67009735107422]\n",
      "loss :  83.67009735107422\n",
      "mse  :  83.67009735107422\n"
     ]
    }
   ],
   "source": [
    "result = model.evaluate(x_test, y_test)\n",
    "\n",
    "print(model.metrics_names)\n",
    "print(result)\n",
    "\n",
    "print('loss : ', result[0])\n",
    "print('mse  : ', result[1])"
   ]
  },
  {
   "cell_type": "code",
   "execution_count": null,
   "metadata": {},
   "outputs": [],
   "source": []
  }
 ],
 "metadata": {
  "kernelspec": {
   "display_name": "Python 3",
   "language": "python",
   "name": "python3"
  },
  "language_info": {
   "codemirror_mode": {
    "name": "ipython",
    "version": 3
   },
   "file_extension": ".py",
   "mimetype": "text/x-python",
   "name": "python",
   "nbconvert_exporter": "python",
   "pygments_lexer": "ipython3",
   "version": "3.7.6"
  }
 },
 "nbformat": 4,
 "nbformat_minor": 4
}
