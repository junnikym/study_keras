{
 "cells": [
  {
   "cell_type": "markdown",
   "metadata": {},
   "source": [
    "# 다층 퍼셉트론 (Multi-Layer Perceptron : MLP) \n",
    "### with MNIST Dataset\n",
    "\n",
    " - 학습 목표 )\n",
    "     MNIST Dataset을 MLP에 적합한 형태로 변형하여 학습\n",
    "     \n",
    " ### (MNIST Dataset)\n",
    " \n",
    "  인공신경망을 학습할 때 흔히 사용되는 toy dataset; 사람이 직접 손으로 쓴 숫자 0~9를 \n",
    "  이미지화 한 데이터이다.\n",
    "\n",
    "## MNIST Dataset 불러오기"
   ]
  },
  {
   "cell_type": "code",
   "execution_count": 1,
   "metadata": {},
   "outputs": [
    {
     "data": {
      "image/png": "[encoded data removed]",
      "text/plain": [
       "<Figure size 432x288 with 1 Axes>"
      ]
     },
     "metadata": {
      "needs_background": "light"
     },
     "output_type": "display_data"
    },
    {
     "name": "stdout",
     "output_type": "stream",
     "text": [
      "label :  5\n"
     ]
    }
   ],
   "source": [
    "from keras.datasets import mnist\n",
    "import matplotlib.pyplot as plt\n",
    "\n",
    "(x_train, y_train), (x_test, y_test) = mnist.load_data()\n",
    "\n",
    "plt.imshow(x_train[0])\n",
    "plt.show()\n",
    "print('label : ', y_train[0])"
   ]
  },
  {
   "cell_type": "markdown",
   "metadata": {},
   "source": [
    "## Dataset Pre-Processing\n",
    "\n",
    "MNIST Dataset은 흑백 이미지의 28x28의 2차원 행렬 형태를 가지고있다. 하지만 MLP의 \n",
    "Input layer에 2차원 행렬은 적절한 형태가 아니기 때문에 이를 1차원 형태로 재배열\n",
    "(reshape)하는 과정이 소요된다."
   ]
  },
  {
   "cell_type": "code",
   "execution_count": 2,
   "metadata": {},
   "outputs": [
    {
     "name": "stdout",
     "output_type": "stream",
     "text": [
      "(19800, 784) (10000, 784) (19800, 10) (10000, 10)\n"
     ]
    }
   ],
   "source": [
    "from keras.utils.np_utils import to_categorical\n",
    "from sklearn.model_selection import train_test_split\n",
    "\n",
    "x_train = x_train.reshape((x_train.shape[0], -1))\n",
    "x_test = x_test.reshape((x_test.shape[0], -1))\n",
    "\n",
    "# 학습데이터의 1/3만 활용\n",
    "x_train, _, y_train, _ = train_test_split(\n",
    "    x_train, \n",
    "    y_train, \n",
    "    test_size = 0.67, \n",
    "    random_state = 7\n",
    ")\n",
    "\n",
    "y_train = to_categorical(y_train)\n",
    "y_test = to_categorical(y_test)\n",
    "\n",
    "print(x_train.shape, x_test.shape, y_train.shape, y_test.shape)"
   ]
  },
  {
   "cell_type": "markdown",
   "metadata": {},
   "source": [
    "## Model 학습 및 평가"
   ]
  },
  {
   "cell_type": "code",
   "execution_count": 3,
   "metadata": {},
   "outputs": [],
   "source": [
    "from keras.models import Sequential\n",
    "from keras.layers import Activation, Dense\n",
    "from keras import optimizers\n",
    "\n",
    "model = Sequential()\n",
    "\n",
    "# input layer\n",
    "model.add(Dense(50, input_shape = (784, ), activation = 'sigmoid'))\n",
    "\n",
    "# hidden layer (first)\n",
    "model.add(Dense(50, activation = 'sigmoid'))\n",
    "\n",
    "# hidden layer (second)\n",
    "model.add(Dense(50, activation = 'sigmoid'))\n",
    "\n",
    "# hidden layer (third)\n",
    "model.add(Dense(50, activation = 'sigmoid'))\n",
    "\n",
    "# output layer\n",
    "model.add(Dense(10, activation = 'softmax'))\n",
    "\n",
    "sgd = optimizers.SGD(lr = 0.001)\n",
    "model.compile(\n",
    "    optimizer = sgd, \n",
    "    loss = 'categorical_crossentropy',\n",
    "    metrics = ['accuracy']\n",
    ")\n",
    "\n",
    "history = model.fit(\n",
    "    x_train,\n",
    "    y_train,\n",
    "    batch_size = 256,\n",
    "    validation_split = 0.3,\n",
    "    epochs = 100,\n",
    "    verbose = 0\n",
    ")"
   ]
  },
  {
   "cell_type": "code",
   "execution_count": 4,
   "metadata": {},
   "outputs": [
    {
     "data": {
      "image/png": "[encoded data removed]",
      "text/plain": [
       "<Figure size 432x288 with 1 Axes>"
      ]
     },
     "metadata": {
      "needs_background": "light"
     },
     "output_type": "display_data"
    }
   ],
   "source": [
    "plt.plot(history.history['accuracy'])\n",
    "plt.plot(history.history['val_accuracy'])\n",
    "plt.legend(['training', 'validation'], loc = 'upper left')\n",
    "plt.show()"
   ]
  },
  {
   "cell_type": "markdown",
   "metadata": {},
   "source": [
    "## Model 평가"
   ]
  },
  {
   "cell_type": "code",
   "execution_count": 5,
   "metadata": {},
   "outputs": [
    {
     "name": "stdout",
     "output_type": "stream",
     "text": [
      "313/313 [==============================] - 0s 512us/step - loss: 2.2993 - accuracy: 0.1135\n",
      "test accuracy 0.11349999904632568\n"
     ]
    }
   ],
   "source": [
    "result = model.evaluate(x_test, y_test)\n",
    "print(\"test accuracy\", result[1])"
   ]
  },
  {
   "cell_type": "markdown",
   "metadata": {},
   "source": [
    "# Improving techniques\n",
    "\n",
    "    1. 가중치 초기화; Weight Initialization\n",
    "    2. 활성 함수; Activation Function\n",
    "    3. 최적화; Optimization\n"
   ]
  },
  {
   "cell_type": "markdown",
   "metadata": {},
   "source": [
    "## 1.  Weight Initialization\n",
    "\n",
    "케라스의 default 가중치 초기화 방식은 일정 구간 내에서 랜덤하게 찍는 Random_Uniform\n",
    "방식이다. 이는 back propagation 과정에서 gradient가 지나치게 커지거나 소실(exploding/vanishing gradient)문제로 이어질 위험성이 크기 때문에 좀 더 개선된 초기화\n",
    "방식들을 제공하고있다. 케라스에서 제공하는 방식 중 흔히 사용되는 것은\n",
    "\n",
    " - LeCun(lecun_uniform, lecun_normal)\n",
    " - Xavier(glorot_uniform, glorot_normal)\n",
    " - He(he_uniform, he_normal)\n",
    " \n",
    " 과 같은 방식들이 존재한다.\n",
    " \n",
    "## He Initialization을 사용한 Model 생성 및 학습"
   ]
  },
  {
   "cell_type": "code",
   "execution_count": 13,
   "metadata": {},
   "outputs": [],
   "source": [
    "from keras.models import Sequential\n",
    "from keras.layers import Activation, Dense\n",
    "from keras import optimizers\n",
    "\n",
    "# Model 생성 함수\n",
    "\n",
    "def mlp_model():\n",
    "    model = Sequential()\n",
    "    \n",
    "    # input layer\n",
    "    model.add(Dense(\n",
    "        50, input_shape = (784, ),\n",
    "        kernel_initializer = 'he_normal',\n",
    "        activation = 'sigmoid'\n",
    "    ))\n",
    "    \n",
    "    # hidden layer : 1 \n",
    "    model.add(Dense(\n",
    "        50,\n",
    "        kernel_initializer = 'he_normal',\n",
    "        activation = 'sigmoid'\n",
    "    ))\n",
    "    \n",
    "    # hidden layer : 2\n",
    "    model.add(Dense(\n",
    "        50,\n",
    "        kernel_initializer = 'he_normal',\n",
    "        activation = 'sigmoid'\n",
    "    ))\n",
    "    \n",
    "    # hidden layer : 3\n",
    "    model.add(Dense(\n",
    "        50,\n",
    "        kernel_initializer = 'he_normal',\n",
    "        activation = 'sigmoid'\n",
    "    ))\n",
    "    \n",
    "    # outpuy layer\n",
    "    model.add(Dense(\n",
    "        10,\n",
    "        kernel_initializer = 'he_normal',\n",
    "        activation = 'softmax'\n",
    "    ))\n",
    "    \n",
    "    sgd = optimizers.SGD(lr = 0.001)\n",
    "    model.compile(\n",
    "        optimizer = sgd,\n",
    "        loss = 'categorical_crossentropy',\n",
    "        metrics = ['accuracy']\n",
    "    )\n",
    "    \n",
    "    return model"
   ]
  },
  {
   "cell_type": "code",
   "execution_count": 15,
   "metadata": {},
   "outputs": [],
   "source": [
    "better_model = mlp_model()\n",
    "history = better_model.fit(\n",
    "    x_train, \n",
    "    y_train, \n",
    "    validation_split = 0.3, \n",
    "    epochs = 100, \n",
    "    verbose = 0\n",
    ")"
   ]
  },
  {
   "cell_type": "markdown",
   "metadata": {},
   "source": [
    "## 결과를 통해 성능향상 확인하기"
   ]
  },
  {
   "cell_type": "code",
   "execution_count": 18,
   "metadata": {},
   "outputs": [
    {
     "data": {
      "image/png": "[encoded data removed]",
      "text/plain": [
       "<Figure size 432x288 with 1 Axes>"
      ]
     },
     "metadata": {
      "needs_background": "light"
     },
     "output_type": "display_data"
    },
    {
     "name": "stdout",
     "output_type": "stream",
     "text": [
      "313/313 [==============================] - 0s 567us/step - loss: 1.7859 - accuracy: 0.4833\n",
      "test accuracy 0.48330000042915344\n"
     ]
    }
   ],
   "source": [
    "plt.plot(history.history['accuracy'])\n",
    "plt.plot(history.history['val_accuracy'])\n",
    "plt.legend(['training', 'validation'], loc = 'upper left')\n",
    "plt.show()\n",
    "\n",
    "result = better_model.evaluate(x_test, y_test)\n",
    "print(\"test accuracy\", result[1])"
   ]
  },
  {
   "cell_type": "code",
   "execution_count": 19,
   "metadata": {},
   "outputs": [],
   "source": [
    "## 2.활성 함수\n",
    "\n"
   ]
  },
  {
   "cell_type": "code",
   "execution_count": null,
   "metadata": {},
   "outputs": [],
   "source": []
  }
 ],
 "metadata": {
  "kernelspec": {
   "display_name": "Python 3",
   "language": "python",
   "name": "python3"
  },
  "language_info": {
   "codemirror_mode": {
    "name": "ipython",
    "version": 3
   },
   "file_extension": ".py",
   "mimetype": "text/x-python",
   "name": "python",
   "nbconvert_exporter": "python",
   "pygments_lexer": "ipython3",
   "version": "3.7.6"
  }
 },
 "nbformat": 4,
 "nbformat_minor": 4
}
