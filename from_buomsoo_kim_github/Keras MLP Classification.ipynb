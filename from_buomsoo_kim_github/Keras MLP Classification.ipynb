{
 "cells": [
  {
   "cell_type": "markdown",
   "metadata": {},
   "source": [
    "# 다층 퍼셉트론 (Multi-Layer Perceptron : MLP) \n",
    "### with Classification(분류)\n",
    "\n",
    " - 목적) \n",
    "     회귀파트에서 연습한 MLP 모델을 만들어 Classification(분류) 문제에 적용해 본다.\n",
    "     \n",
    "## MLP의 Classification Task(분류 과업) 적용\n",
    " \n",
    " - Classification Task : 머신러닝에서 예측하고자하는 변수(y)가 카테고리 속성을 가질\n",
    "                         때(categorical)를 일컫는다.\n",
    "                         \n",
    " * 예로 이미지 분류, 이탈/잔존(churn/retention) 예층 등에 적합.\n",
    " \n",
    "분류 과업에서 loss function은 Cross-Entropy(혹은 Softmax) loss가 흔히 사용되며 평가 지표(evaluation metric)로는 정확도(accuracy)가 널리 사용된다."
   ]
  },
  {
   "cell_type": "markdown",
   "metadata": {},
   "source": [
    "## Breast Cancer 데이터 셋 불러오기"
   ]
  },
  {
   "cell_type": "code",
   "execution_count": 5,
   "metadata": {},
   "outputs": [
    {
     "name": "stdout",
     "output_type": "stream",
     "text": [
      "(398, 30) (171, 30) (398,) (398,)\n"
     ]
    }
   ],
   "source": [
    "from sklearn.datasets import load_breast_cancer\n",
    "from sklearn.model_selection import train_test_split\n",
    "\n",
    "whole_data = load_breast_cancer()\n",
    "\n",
    "x_data = whole_data.data\n",
    "y_data = whole_data.target\n",
    "\n",
    "# 학습 데이터 : 검증 데이터 = 0.7 : 0.3 으로 설정\n",
    "x_train, x_test, y_train, y_test = train_test_split(\n",
    "    x_data, y_data, test_size = 0.3, random_state = 7)\n",
    "\n",
    "print(x_train.shape, x_test.shape, y_train.shape, y_train.shape)"
   ]
  },
  {
   "cell_type": "markdown",
   "metadata": {},
   "source": [
    "## Model 생성 및 Layer 추가\n",
    "\n",
    "회귀 파트와 동일;"
   ]
  },
  {
   "cell_type": "code",
   "execution_count": 12,
   "metadata": {},
   "outputs": [],
   "source": [
    "from keras.models import Sequential\n",
    "from keras.layers import Activation, Dense\n",
    "\n",
    "model = Sequential()\n",
    "\n",
    "# input layer\n",
    "model.add(Dense(10, input_shape = (30,), activation = 'sigmoid'))\n",
    "\n",
    "# hidden layer (first)\n",
    "model.add(Dense(10, activation = ('sigmoid')))\n",
    "\n",
    "# hidden layer (second)\n",
    "model.add(Dense(10, activation = ('sigmoid')))\n",
    "\n",
    "# output layer\n",
    "model.add(Dense(1, activation = ('sigmoid')))"
   ]
  },
  {
   "cell_type": "markdown",
   "metadata": {},
   "source": [
    "## Model 컴파일 및 출력\n",
    "\n",
    " 위에서 언급한것과 같이 loss function과 optimizer를 각각 Cross-Entropy와\n",
    " accuracy로 설정한다."
   ]
  },
  {
   "cell_type": "code",
   "execution_count": 13,
   "metadata": {},
   "outputs": [
    {
     "name": "stdout",
     "output_type": "stream",
     "text": [
      "Model: \"sequential_3\"\n",
      "_________________________________________________________________\n",
      "Layer (type)                 Output Shape              Param #   \n",
      "=================================================================\n",
      "dense_3 (Dense)              (None, 10)                310       \n",
      "_________________________________________________________________\n",
      "dense_4 (Dense)              (None, 10)                110       \n",
      "_________________________________________________________________\n",
      "dense_5 (Dense)              (None, 10)                110       \n",
      "_________________________________________________________________\n",
      "dense_6 (Dense)              (None, 1)                 11        \n",
      "=================================================================\n",
      "Total params: 541\n",
      "Trainable params: 541\n",
      "Non-trainable params: 0\n",
      "_________________________________________________________________\n"
     ]
    }
   ],
   "source": [
    "from keras import optimizers\n",
    "\n",
    "# stochastic gradient descent optimizer\n",
    "sgd = optimizers.SGD(lr = 0.01)\n",
    "\n",
    "model.compile(\n",
    "    optimizer = sgd,\n",
    "    loss = 'binary_crossentropy',\n",
    "    metrics = ['acc']\n",
    ")\n",
    "\n",
    "model.summary()"
   ]
  },
  {
   "cell_type": "markdown",
   "metadata": {},
   "source": [
    "## Model 학습"
   ]
  },
  {
   "cell_type": "code",
   "execution_count": 14,
   "metadata": {},
   "outputs": [
    {
     "name": "stdout",
     "output_type": "stream",
     "text": [
      "Epoch 1/100\n",
      "8/8 [==============================] - 0s 794us/step - loss: 0.7543 - acc: 0.3945\n",
      "Epoch 2/100\n",
      "8/8 [==============================] - 0s 713us/step - loss: 0.7413 - acc: 0.3945\n",
      "Epoch 3/100\n",
      "8/8 [==============================] - 0s 568us/step - loss: 0.7304 - acc: 0.3945\n",
      "Epoch 4/100\n",
      "8/8 [==============================] - 0s 717us/step - loss: 0.7213 - acc: 0.3945\n",
      "Epoch 5/100\n",
      "8/8 [==============================] - 0s 677us/step - loss: 0.7134 - acc: 0.3945\n",
      "Epoch 6/100\n",
      "8/8 [==============================] - 0s 734us/step - loss: 0.7067 - acc: 0.3945\n",
      "Epoch 7/100\n",
      "8/8 [==============================] - 0s 750us/step - loss: 0.7012 - acc: 0.3945\n",
      "Epoch 8/100\n",
      "8/8 [==============================] - 0s 686us/step - loss: 0.6964 - acc: 0.3945\n",
      "Epoch 9/100\n",
      "8/8 [==============================] - 0s 777us/step - loss: 0.6925 - acc: 0.5251\n",
      "Epoch 10/100\n",
      "8/8 [==============================] - 0s 687us/step - loss: 0.6891 - acc: 0.6055\n",
      "Epoch 11/100\n",
      "8/8 [==============================] - 0s 734us/step - loss: 0.6863 - acc: 0.6055\n",
      "Epoch 12/100\n",
      "8/8 [==============================] - 0s 688us/step - loss: 0.6839 - acc: 0.6055\n",
      "Epoch 13/100\n",
      "8/8 [==============================] - 0s 744us/step - loss: 0.6819 - acc: 0.6055\n",
      "Epoch 14/100\n",
      "8/8 [==============================] - 0s 649us/step - loss: 0.6801 - acc: 0.6055\n",
      "Epoch 15/100\n",
      "8/8 [==============================] - 0s 728us/step - loss: 0.6788 - acc: 0.6055\n",
      "Epoch 16/100\n",
      "8/8 [==============================] - 0s 670us/step - loss: 0.6775 - acc: 0.6055\n",
      "Epoch 17/100\n",
      "8/8 [==============================] - 0s 743us/step - loss: 0.6764 - acc: 0.6055\n",
      "Epoch 18/100\n",
      "8/8 [==============================] - 0s 688us/step - loss: 0.6755 - acc: 0.6055\n",
      "Epoch 19/100\n",
      "8/8 [==============================] - 0s 719us/step - loss: 0.6748 - acc: 0.6055\n",
      "Epoch 20/100\n",
      "8/8 [==============================] - 0s 693us/step - loss: 0.6742 - acc: 0.6055\n",
      "Epoch 21/100\n",
      "8/8 [==============================] - 0s 703us/step - loss: 0.6737 - acc: 0.6055\n",
      "Epoch 22/100\n",
      "8/8 [==============================] - 0s 686us/step - loss: 0.6733 - acc: 0.6055\n",
      "Epoch 23/100\n",
      "8/8 [==============================] - 0s 698us/step - loss: 0.6730 - acc: 0.6055\n",
      "Epoch 24/100\n",
      "8/8 [==============================] - 0s 680us/step - loss: 0.6725 - acc: 0.6055\n",
      "Epoch 25/100\n",
      "8/8 [==============================] - 0s 698us/step - loss: 0.6722 - acc: 0.6055\n",
      "Epoch 26/100\n",
      "8/8 [==============================] - 0s 682us/step - loss: 0.6720 - acc: 0.6055\n",
      "Epoch 27/100\n",
      "8/8 [==============================] - 0s 748us/step - loss: 0.6719 - acc: 0.6055\n",
      "Epoch 28/100\n",
      "8/8 [==============================] - 0s 748us/step - loss: 0.6716 - acc: 0.6055\n",
      "Epoch 29/100\n",
      "8/8 [==============================] - 0s 700us/step - loss: 0.6716 - acc: 0.6055\n",
      "Epoch 30/100\n",
      "8/8 [==============================] - 0s 851us/step - loss: 0.6714 - acc: 0.6055\n",
      "Epoch 31/100\n",
      "8/8 [==============================] - 0s 735us/step - loss: 0.6713 - acc: 0.6055\n",
      "Epoch 32/100\n",
      "8/8 [==============================] - 0s 685us/step - loss: 0.6712 - acc: 0.6055\n",
      "Epoch 33/100\n",
      "8/8 [==============================] - 0s 740us/step - loss: 0.6711 - acc: 0.6055\n",
      "Epoch 34/100\n",
      "8/8 [==============================] - 0s 693us/step - loss: 0.6712 - acc: 0.6055\n",
      "Epoch 35/100\n",
      "8/8 [==============================] - 0s 739us/step - loss: 0.6711 - acc: 0.6055\n",
      "Epoch 36/100\n",
      "8/8 [==============================] - 0s 670us/step - loss: 0.6711 - acc: 0.6055\n",
      "Epoch 37/100\n",
      "8/8 [==============================] - 0s 748us/step - loss: 0.6710 - acc: 0.6055\n",
      "Epoch 38/100\n",
      "8/8 [==============================] - 0s 697us/step - loss: 0.6710 - acc: 0.6055\n",
      "Epoch 39/100\n",
      "8/8 [==============================] - 0s 732us/step - loss: 0.6709 - acc: 0.6055\n",
      "Epoch 40/100\n",
      "8/8 [==============================] - 0s 730us/step - loss: 0.6709 - acc: 0.6055\n",
      "Epoch 41/100\n",
      "8/8 [==============================] - 0s 739us/step - loss: 0.6710 - acc: 0.6055\n",
      "Epoch 42/100\n",
      "8/8 [==============================] - 0s 721us/step - loss: 0.6709 - acc: 0.6055\n",
      "Epoch 43/100\n",
      "8/8 [==============================] - 0s 746us/step - loss: 0.6708 - acc: 0.6055\n",
      "Epoch 44/100\n",
      "8/8 [==============================] - 0s 714us/step - loss: 0.6708 - acc: 0.6055\n",
      "Epoch 45/100\n",
      "8/8 [==============================] - 0s 750us/step - loss: 0.6709 - acc: 0.6055\n",
      "Epoch 46/100\n",
      "8/8 [==============================] - 0s 688us/step - loss: 0.6709 - acc: 0.6055\n",
      "Epoch 47/100\n",
      "8/8 [==============================] - 0s 707us/step - loss: 0.6708 - acc: 0.6055\n",
      "Epoch 48/100\n",
      "8/8 [==============================] - 0s 671us/step - loss: 0.6708 - acc: 0.6055\n",
      "Epoch 49/100\n",
      "8/8 [==============================] - 0s 711us/step - loss: 0.6708 - acc: 0.6055\n",
      "Epoch 50/100\n",
      "8/8 [==============================] - 0s 666us/step - loss: 0.6709 - acc: 0.6055\n",
      "Epoch 51/100\n",
      "8/8 [==============================] - 0s 673us/step - loss: 0.6709 - acc: 0.6055\n",
      "Epoch 52/100\n",
      "8/8 [==============================] - 0s 670us/step - loss: 0.6708 - acc: 0.6055\n",
      "Epoch 53/100\n",
      "8/8 [==============================] - 0s 667us/step - loss: 0.6708 - acc: 0.6055\n",
      "Epoch 54/100\n",
      "8/8 [==============================] - 0s 729us/step - loss: 0.6708 - acc: 0.6055\n",
      "Epoch 55/100\n",
      "8/8 [==============================] - 0s 680us/step - loss: 0.6708 - acc: 0.6055\n",
      "Epoch 56/100\n",
      "8/8 [==============================] - 0s 697us/step - loss: 0.6707 - acc: 0.6055\n",
      "Epoch 57/100\n",
      "8/8 [==============================] - 0s 649us/step - loss: 0.6708 - acc: 0.6055\n",
      "Epoch 58/100\n",
      "8/8 [==============================] - 0s 645us/step - loss: 0.6708 - acc: 0.6055\n",
      "Epoch 59/100\n",
      "8/8 [==============================] - 0s 685us/step - loss: 0.6708 - acc: 0.6055\n",
      "Epoch 60/100\n",
      "8/8 [==============================] - 0s 671us/step - loss: 0.6708 - acc: 0.6055\n",
      "Epoch 61/100\n",
      "8/8 [==============================] - 0s 692us/step - loss: 0.6708 - acc: 0.6055\n",
      "Epoch 62/100\n",
      "8/8 [==============================] - 0s 697us/step - loss: 0.6708 - acc: 0.6055\n",
      "Epoch 63/100\n",
      "8/8 [==============================] - 0s 718us/step - loss: 0.6708 - acc: 0.6055\n",
      "Epoch 64/100\n",
      "8/8 [==============================] - 0s 729us/step - loss: 0.6708 - acc: 0.6055\n",
      "Epoch 65/100\n",
      "8/8 [==============================] - 0s 707us/step - loss: 0.6708 - acc: 0.6055\n",
      "Epoch 66/100\n",
      "8/8 [==============================] - 0s 694us/step - loss: 0.6708 - acc: 0.6055\n",
      "Epoch 67/100\n",
      "8/8 [==============================] - 0s 737us/step - loss: 0.6708 - acc: 0.6055\n",
      "Epoch 68/100\n",
      "8/8 [==============================] - 0s 676us/step - loss: 0.6709 - acc: 0.6055\n",
      "Epoch 69/100\n",
      "8/8 [==============================] - 0s 741us/step - loss: 0.6708 - acc: 0.6055\n",
      "Epoch 70/100\n",
      "8/8 [==============================] - 0s 690us/step - loss: 0.6707 - acc: 0.6055\n",
      "Epoch 71/100\n",
      "8/8 [==============================] - 0s 740us/step - loss: 0.6708 - acc: 0.6055\n",
      "Epoch 72/100\n",
      "8/8 [==============================] - 0s 689us/step - loss: 0.6708 - acc: 0.6055\n",
      "Epoch 73/100\n",
      "8/8 [==============================] - 0s 713us/step - loss: 0.6708 - acc: 0.6055\n",
      "Epoch 74/100\n",
      "8/8 [==============================] - 0s 705us/step - loss: 0.6707 - acc: 0.6055\n",
      "Epoch 75/100\n",
      "8/8 [==============================] - 0s 711us/step - loss: 0.6708 - acc: 0.6055\n",
      "Epoch 76/100\n",
      "8/8 [==============================] - 0s 700us/step - loss: 0.6708 - acc: 0.6055\n",
      "Epoch 77/100\n",
      "8/8 [==============================] - 0s 722us/step - loss: 0.6708 - acc: 0.6055\n",
      "Epoch 78/100\n",
      "8/8 [==============================] - 0s 705us/step - loss: 0.6707 - acc: 0.6055\n",
      "Epoch 79/100\n",
      "8/8 [==============================] - 0s 716us/step - loss: 0.6708 - acc: 0.6055\n",
      "Epoch 80/100\n",
      "8/8 [==============================] - 0s 741us/step - loss: 0.6708 - acc: 0.6055\n",
      "Epoch 81/100\n",
      "8/8 [==============================] - 0s 718us/step - loss: 0.6707 - acc: 0.6055\n",
      "Epoch 82/100\n",
      "8/8 [==============================] - 0s 874us/step - loss: 0.6708 - acc: 0.6055\n",
      "Epoch 83/100\n",
      "8/8 [==============================] - 0s 775us/step - loss: 0.6708 - acc: 0.6055\n",
      "Epoch 84/100\n",
      "8/8 [==============================] - 0s 659us/step - loss: 0.6709 - acc: 0.6055\n",
      "Epoch 85/100\n",
      "8/8 [==============================] - 0s 721us/step - loss: 0.6708 - acc: 0.6055\n",
      "Epoch 86/100\n",
      "8/8 [==============================] - 0s 712us/step - loss: 0.6708 - acc: 0.6055\n",
      "Epoch 87/100\n"
     ]
    },
    {
     "name": "stdout",
     "output_type": "stream",
     "text": [
      "8/8 [==============================] - 0s 697us/step - loss: 0.6709 - acc: 0.6055\n",
      "Epoch 88/100\n",
      "8/8 [==============================] - 0s 795us/step - loss: 0.6708 - acc: 0.6055\n",
      "Epoch 89/100\n",
      "8/8 [==============================] - 0s 715us/step - loss: 0.6708 - acc: 0.6055\n",
      "Epoch 90/100\n",
      "8/8 [==============================] - 0s 822us/step - loss: 0.6708 - acc: 0.6055\n",
      "Epoch 91/100\n",
      "8/8 [==============================] - 0s 720us/step - loss: 0.6708 - acc: 0.6055\n",
      "Epoch 92/100\n",
      "8/8 [==============================] - 0s 729us/step - loss: 0.6708 - acc: 0.6055\n",
      "Epoch 93/100\n",
      "8/8 [==============================] - 0s 732us/step - loss: 0.6708 - acc: 0.6055\n",
      "Epoch 94/100\n",
      "8/8 [==============================] - 0s 710us/step - loss: 0.6709 - acc: 0.6055\n",
      "Epoch 95/100\n",
      "8/8 [==============================] - 0s 739us/step - loss: 0.6708 - acc: 0.6055\n",
      "Epoch 96/100\n",
      "8/8 [==============================] - 0s 694us/step - loss: 0.6708 - acc: 0.6055\n",
      "Epoch 97/100\n",
      "8/8 [==============================] - 0s 739us/step - loss: 0.6708 - acc: 0.6055\n",
      "Epoch 98/100\n",
      "8/8 [==============================] - 0s 869us/step - loss: 0.6708 - acc: 0.6055\n",
      "Epoch 99/100\n",
      "8/8 [==============================] - 0s 801us/step - loss: 0.6708 - acc: 0.6055\n",
      "Epoch 100/100\n",
      "8/8 [==============================] - 0s 859us/step - loss: 0.6708 - acc: 0.6055\n"
     ]
    },
    {
     "data": {
      "text/plain": [
       "<tensorflow.python.keras.callbacks.History at 0x7f80fe1ecf10>"
      ]
     },
     "execution_count": 14,
     "metadata": {},
     "output_type": "execute_result"
    }
   ],
   "source": [
    "model.fit(\n",
    "    x_train, \n",
    "    y_train, \n",
    "    batch_size = 50,\n",
    "    epochs = 100,\n",
    "    verbose = 1\n",
    ")"
   ]
  },
  {
   "cell_type": "markdown",
   "metadata": {},
   "source": [
    "## Model 평가\n",
    "\n",
    " - Regression(회귀)에서는 손실과 오차를 결과로 반환하지만 classification(분류) 문제\n",
    "   에서는 손실과 정확도(accuracy)로 평가하는 것에 유의"
   ]
  },
  {
   "cell_type": "code",
   "execution_count": 17,
   "metadata": {},
   "outputs": [
    {
     "name": "stdout",
     "output_type": "stream",
     "text": [
      "6/6 [==============================] - 0s 657us/step - loss: 0.6394 - acc: 0.6784\n",
      "['loss', 'acc']\n",
      "[0.6394336819648743, 0.6783625483512878]\n",
      "loss     :  0.6394336819648743\n",
      "accuracy :  0.6783625483512878\n"
     ]
    }
   ],
   "source": [
    "result = model.evaluate(x_test, y_test)\n",
    "\n",
    "print(model.metrics_names)\n",
    "print(result)\n",
    "\n",
    "print('loss     : ', result[0])\n",
    "print('accuracy : ', result[1])"
   ]
  },
  {
   "cell_type": "code",
   "execution_count": null,
   "metadata": {},
   "outputs": [],
   "source": []
  }
 ],
 "metadata": {
  "kernelspec": {
   "display_name": "Python 3",
   "language": "python",
   "name": "python3"
  },
  "language_info": {
   "codemirror_mode": {
    "name": "ipython",
    "version": 3
   },
   "file_extension": ".py",
   "mimetype": "text/x-python",
   "name": "python",
   "nbconvert_exporter": "python",
   "pygments_lexer": "ipython3",
   "version": "3.7.6"
  }
 },
 "nbformat": 4,
 "nbformat_minor": 4
}
